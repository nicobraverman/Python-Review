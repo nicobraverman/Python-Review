{
  "nbformat": 4,
  "nbformat_minor": 0,
  "metadata": {
    "colab": {
      "name": "HW1_braverman_nicolas.ipynb",
      "provenance": [],
      "collapsed_sections": []
    },
    "kernelspec": {
      "name": "python3",
      "display_name": "Python 3"
    }
  },
  "cells": [
    {
      "cell_type": "markdown",
      "metadata": {
        "id": "hm8RAKinXsIP"
      },
      "source": [
        "## **Homework 1**\n",
        "\n",
        "### Create a copy of the notebook to start answering the questions. Name your notebook in the format HW1_lastname_firstname.ipynb to facilitate the grading process. \n",
        "\n",
        "### Answer all the questions, test your code to ensure there are no errors and the results are as expected. Once you have answered all the questions, save the final copy, then go to File-> click on Download.ipynb. Once the local copy has been downloaded, submit your file on Blackboard under the corresponding assignment section. Also provide us a link to your notebook during submission. \n",
        "\n",
        "### **The due date of this homework is 02/05/2021 (Friday).**\n",
        "\n",
        "### Please ensure you follow all the steps mentioned in the homework.\n",
        "\n",
        "### All the questions have a sample input and output to help you understand the question. Please note that your programs will be tested for other sets of inputs and outputs along with the sample provided. So test your code for other inputs.\n",
        "\n",
        "### You can submit your solutions any number of times until the deadline.\n"
      ]
    },
    {
      "cell_type": "markdown",
      "metadata": {
        "id": "uacFrEaZfcfq"
      },
      "source": [
        "##### Q1. Write a program that prompts the user to enter a password then prints the length of the password.\n",
        "\n",
        "```\n",
        "Enter your password: hello\n",
        "Your password is 5 long.\n",
        "```\n",
        "\n",
        "\n"
      ]
    },
    {
      "cell_type": "code",
      "metadata": {
        "id": "avPyES14ftCt",
        "colab": {
          "base_uri": "https://localhost:8080/"
        },
        "outputId": "63d25a91-44ad-48e5-ea33-4367f3522f97"
      },
      "source": [
        "# Type solution here\r\n",
        "password = input(\"Enter your passsword: \") # user inputs password\r\n",
        "print(\"Your password is\", len(password), \"long.\") # finds length of password"
      ],
      "execution_count": null,
      "outputs": [
        {
          "output_type": "stream",
          "text": [
            "Enter your passsword: password\n",
            "Your password is 8 long.\n"
          ],
          "name": "stdout"
        }
      ]
    },
    {
      "cell_type": "markdown",
      "metadata": {
        "id": "ekh-kABuItli"
      },
      "source": [
        ""
      ]
    },
    {
      "cell_type": "markdown",
      "metadata": {
        "id": "K1yko-xUItU3"
      },
      "source": [
        ""
      ]
    },
    {
      "cell_type": "markdown",
      "metadata": {
        "id": "behD0j_Of2TW"
      },
      "source": [
        "##### Q2. Write a program that prompts the user to enter their full name then prints the number of characters in their name (do not count spaces).\n",
        "\n",
        "```\n",
        "What is your name? Amulya Katti\n",
        "Amulya Katti your name has 11 characters.\n",
        "```"
      ]
    },
    {
      "cell_type": "code",
      "metadata": {
        "id": "XSdIRjwlhSlu",
        "colab": {
          "base_uri": "https://localhost:8080/"
        },
        "outputId": "1ad01d60-0375-4249-b034-4072d8709372"
      },
      "source": [
        "# Type solution here\r\n",
        "name = input(\"What is your name? \") # user input\r\n",
        "print(name, \"your name has\", len(name) - name.count(\" \"), \"characters.\") # counts characters of input "
      ],
      "execution_count": null,
      "outputs": [
        {
          "output_type": "stream",
          "text": [
            "What is your name? Nico Braverman\n",
            "Nico Braverman your name has 13 characters.\n"
          ],
          "name": "stdout"
        }
      ]
    },
    {
      "cell_type": "markdown",
      "metadata": {
        "id": "5KHOWF6FhVHV"
      },
      "source": [
        "##### Q3. Write a program that prompts the user to enter a month (as a number), then prints the name of the month and the number of days in that month. Ensure that the user inputs a valid month and handle any error cases.\n",
        "\n",
        "```\n",
        "Enter the month number: 9\n",
        "September has 30 days\n",
        "```"
      ]
    },
    {
      "cell_type": "code",
      "metadata": {
        "id": "KhS-SAEThyTG",
        "colab": {
          "base_uri": "https://localhost:8080/"
        },
        "outputId": "712a212f-4202-4cd2-9e4b-112b690674c6"
      },
      "source": [
        "# Type solution here\r\n",
        "import calendar\r\n",
        "num = int(input(\"Enter the month number: \")) # user input month number\r\n",
        "while num > 12 or num < 0: # while loop error check\r\n",
        "  print(\"Invalid input. Please try again.\")\r\n",
        "  num = int(input(\"Enter the month number: \"))\r\n",
        "date = calendar.month_name[num] # converts number of month to month name\r\n",
        "ndays = calendar.monthrange(2021,num) # finds number of days in month\r\n",
        "if num < 12 or num > 0:\r\n",
        "  print(date, \"has\", ndays[1], \"days.\") # print statement of month with number of days\r\n",
        "  "
      ],
      "execution_count": null,
      "outputs": [
        {
          "output_type": "stream",
          "text": [
            "Enter the month number: 11\n",
            "November has 30 days.\n"
          ],
          "name": "stdout"
        }
      ]
    },
    {
      "cell_type": "markdown",
      "metadata": {
        "id": "O7lnAdGlh6Xa"
      },
      "source": [
        "##### Q4. Write a program that prompts the user to enter a loan amount, annual interest rate, and number of years  for a car loan. Then calculate and print the monthly payment amount.\n",
        "\n",
        "Note:\n",
        "```\n",
        "PMT= [PV*i*((1+i)^n)]/[((1+i)^n)-1]\n",
        "```\n",
        "PMT is the monthly payment\n",
        "\n",
        "PV is the loan amount\n",
        "\n",
        "i is the interest rate per month in decimal form (interest rate percentage divided by 12)\n",
        "\n",
        "n is the number of months (term of the loan in months)\n",
        "\n",
        "```\n",
        "Loan Amount: 30000.00\n",
        "Annual Interest Rate: 4.00\n",
        "Years: 5\n",
        "Your monthly payment is: $552.50\n",
        "```"
      ]
    },
    {
      "cell_type": "code",
      "metadata": {
        "id": "p4B5JH5GiTs9",
        "colab": {
          "base_uri": "https://localhost:8080/"
        },
        "outputId": "354e60f9-11fc-44e9-9ff3-89212fefc4ca"
      },
      "source": [
        "# Type solution here\r\n",
        "PV = int(input(\"Loan Amount: \"))\r\n",
        "rate = int(input(\"Annual Interest Rate: \"))\r\n",
        "i = (rate/100/12) # converts annual rate to monthy rate\r\n",
        "years = int(input(\"Years: \"))\r\n",
        "n = (years * 12) # converts years to months\r\n",
        "print(\"Your monthly payment is: $\", PV * (i * (1 + i) ** n) / ((1 + i) ** n - 1)) # calculates monthly payment\r\n"
      ],
      "execution_count": null,
      "outputs": [
        {
          "output_type": "stream",
          "text": [
            "Loan Amount: 30000\n",
            "Annual Interest Rate: 4\n",
            "Years: 5\n",
            "Your monthly payment is: $ 552.4956616579792\n"
          ],
          "name": "stdout"
        }
      ]
    },
    {
      "cell_type": "markdown",
      "metadata": {
        "id": "SjiolJKgiWV-"
      },
      "source": [
        "##### Q5. Write a program to that prompts the user to enter a string. Then check whether or not the string is a palindrome.\n",
        "\n",
        "```\n",
        "Enter a string: Madam\n",
        "Madam, is a palindrome!\n",
        "```"
      ]
    },
    {
      "cell_type": "code",
      "metadata": {
        "id": "F5_M934Ri0es",
        "colab": {
          "base_uri": "https://localhost:8080/"
        },
        "outputId": "785e5d69-8137-43f9-f98b-12a62d1a5a0c"
      },
      "source": [
        "# Type solution here\r\n",
        "x = input(\"Enter a string: \").lower() # user input and makes lowercase\r\n",
        "y = \"\" # empty string\r\n",
        "for i in x:\r\n",
        "  y = i + y\r\n",
        "if x == y: # checks for palindrome\r\n",
        "  print(x, \"is a palindrome!\")\r\n",
        "else:\r\n",
        "  print(x, \"is not a palindrome.\")\r\n"
      ],
      "execution_count": null,
      "outputs": [
        {
          "output_type": "stream",
          "text": [
            "Enter a string: Madam\n",
            "madam is a palindrome!\n"
          ],
          "name": "stdout"
        }
      ]
    },
    {
      "cell_type": "markdown",
      "metadata": {
        "id": "BLBD6n9vkJEu"
      },
      "source": [
        "##### Q6. Write a program to compute and print all possible combinations of change for \\$1. Denominations to be considered – quarter, dime, nickel, penny.\n",
        "\n",
        "Hint: Use nested loops (loops within loops for the various denominations of coins)\n",
        "\n",
        "```\n",
        "Change for $1:\n",
        "0 quarters, 0 dimes, 0 nickels, 100 pennies\n",
        "…\n",
        "4 quarters, 0 dimes, 0 nickels, 0 pennies\n",
        "```"
      ]
    },
    {
      "cell_type": "code",
      "metadata": {
        "id": "kAQsTjwDkZZ5",
        "colab": {
          "base_uri": "https://localhost:8080/"
        },
        "outputId": "8af80bd8-0edd-40bb-8d1b-a6cfd68619d3"
      },
      "source": [
        "# Type solution here\r\n",
        "print(\"Change for $1:\")\r\n",
        "for quarter in range(0,5): # takes values between 1-4\r\n",
        "  for dime in range(0,11): # takes values between 1-10\r\n",
        "    for nickel in range(0,21): # takes values between 1-20\r\n",
        "      for penny in range(0,101): # takes values between 1-100\r\n",
        "        if(25*quarter + 10*dime + 5*nickel + penny==100): # calculates change needed to make 1 dollar\r\n",
        "          print(quarter,\"quarters, \",dime,\"dimes, \",nickel,\"nickels, \",penny,\"pennies.\")\r\n",
        "\r\n",
        "\r\n"
      ],
      "execution_count": null,
      "outputs": [
        {
          "output_type": "stream",
          "text": [
            "Change for $1:\n",
            "0 quarters,  0 dimes,  0 nickels,  100 pennies.\n",
            "0 quarters,  0 dimes,  1 nickels,  95 pennies.\n",
            "0 quarters,  0 dimes,  2 nickels,  90 pennies.\n",
            "0 quarters,  0 dimes,  3 nickels,  85 pennies.\n",
            "0 quarters,  0 dimes,  4 nickels,  80 pennies.\n",
            "0 quarters,  0 dimes,  5 nickels,  75 pennies.\n",
            "0 quarters,  0 dimes,  6 nickels,  70 pennies.\n",
            "0 quarters,  0 dimes,  7 nickels,  65 pennies.\n",
            "0 quarters,  0 dimes,  8 nickels,  60 pennies.\n",
            "0 quarters,  0 dimes,  9 nickels,  55 pennies.\n",
            "0 quarters,  0 dimes,  10 nickels,  50 pennies.\n",
            "0 quarters,  0 dimes,  11 nickels,  45 pennies.\n",
            "0 quarters,  0 dimes,  12 nickels,  40 pennies.\n",
            "0 quarters,  0 dimes,  13 nickels,  35 pennies.\n",
            "0 quarters,  0 dimes,  14 nickels,  30 pennies.\n",
            "0 quarters,  0 dimes,  15 nickels,  25 pennies.\n",
            "0 quarters,  0 dimes,  16 nickels,  20 pennies.\n",
            "0 quarters,  0 dimes,  17 nickels,  15 pennies.\n",
            "0 quarters,  0 dimes,  18 nickels,  10 pennies.\n",
            "0 quarters,  0 dimes,  19 nickels,  5 pennies.\n",
            "0 quarters,  0 dimes,  20 nickels,  0 pennies.\n",
            "0 quarters,  1 dimes,  0 nickels,  90 pennies.\n",
            "0 quarters,  1 dimes,  1 nickels,  85 pennies.\n",
            "0 quarters,  1 dimes,  2 nickels,  80 pennies.\n",
            "0 quarters,  1 dimes,  3 nickels,  75 pennies.\n",
            "0 quarters,  1 dimes,  4 nickels,  70 pennies.\n",
            "0 quarters,  1 dimes,  5 nickels,  65 pennies.\n",
            "0 quarters,  1 dimes,  6 nickels,  60 pennies.\n",
            "0 quarters,  1 dimes,  7 nickels,  55 pennies.\n",
            "0 quarters,  1 dimes,  8 nickels,  50 pennies.\n",
            "0 quarters,  1 dimes,  9 nickels,  45 pennies.\n",
            "0 quarters,  1 dimes,  10 nickels,  40 pennies.\n",
            "0 quarters,  1 dimes,  11 nickels,  35 pennies.\n",
            "0 quarters,  1 dimes,  12 nickels,  30 pennies.\n",
            "0 quarters,  1 dimes,  13 nickels,  25 pennies.\n",
            "0 quarters,  1 dimes,  14 nickels,  20 pennies.\n",
            "0 quarters,  1 dimes,  15 nickels,  15 pennies.\n",
            "0 quarters,  1 dimes,  16 nickels,  10 pennies.\n",
            "0 quarters,  1 dimes,  17 nickels,  5 pennies.\n",
            "0 quarters,  1 dimes,  18 nickels,  0 pennies.\n",
            "0 quarters,  2 dimes,  0 nickels,  80 pennies.\n",
            "0 quarters,  2 dimes,  1 nickels,  75 pennies.\n",
            "0 quarters,  2 dimes,  2 nickels,  70 pennies.\n",
            "0 quarters,  2 dimes,  3 nickels,  65 pennies.\n",
            "0 quarters,  2 dimes,  4 nickels,  60 pennies.\n",
            "0 quarters,  2 dimes,  5 nickels,  55 pennies.\n",
            "0 quarters,  2 dimes,  6 nickels,  50 pennies.\n",
            "0 quarters,  2 dimes,  7 nickels,  45 pennies.\n",
            "0 quarters,  2 dimes,  8 nickels,  40 pennies.\n",
            "0 quarters,  2 dimes,  9 nickels,  35 pennies.\n",
            "0 quarters,  2 dimes,  10 nickels,  30 pennies.\n",
            "0 quarters,  2 dimes,  11 nickels,  25 pennies.\n",
            "0 quarters,  2 dimes,  12 nickels,  20 pennies.\n",
            "0 quarters,  2 dimes,  13 nickels,  15 pennies.\n",
            "0 quarters,  2 dimes,  14 nickels,  10 pennies.\n",
            "0 quarters,  2 dimes,  15 nickels,  5 pennies.\n",
            "0 quarters,  2 dimes,  16 nickels,  0 pennies.\n",
            "0 quarters,  3 dimes,  0 nickels,  70 pennies.\n",
            "0 quarters,  3 dimes,  1 nickels,  65 pennies.\n",
            "0 quarters,  3 dimes,  2 nickels,  60 pennies.\n",
            "0 quarters,  3 dimes,  3 nickels,  55 pennies.\n",
            "0 quarters,  3 dimes,  4 nickels,  50 pennies.\n",
            "0 quarters,  3 dimes,  5 nickels,  45 pennies.\n",
            "0 quarters,  3 dimes,  6 nickels,  40 pennies.\n",
            "0 quarters,  3 dimes,  7 nickels,  35 pennies.\n",
            "0 quarters,  3 dimes,  8 nickels,  30 pennies.\n",
            "0 quarters,  3 dimes,  9 nickels,  25 pennies.\n",
            "0 quarters,  3 dimes,  10 nickels,  20 pennies.\n",
            "0 quarters,  3 dimes,  11 nickels,  15 pennies.\n",
            "0 quarters,  3 dimes,  12 nickels,  10 pennies.\n",
            "0 quarters,  3 dimes,  13 nickels,  5 pennies.\n",
            "0 quarters,  3 dimes,  14 nickels,  0 pennies.\n",
            "0 quarters,  4 dimes,  0 nickels,  60 pennies.\n",
            "0 quarters,  4 dimes,  1 nickels,  55 pennies.\n",
            "0 quarters,  4 dimes,  2 nickels,  50 pennies.\n",
            "0 quarters,  4 dimes,  3 nickels,  45 pennies.\n",
            "0 quarters,  4 dimes,  4 nickels,  40 pennies.\n",
            "0 quarters,  4 dimes,  5 nickels,  35 pennies.\n",
            "0 quarters,  4 dimes,  6 nickels,  30 pennies.\n",
            "0 quarters,  4 dimes,  7 nickels,  25 pennies.\n",
            "0 quarters,  4 dimes,  8 nickels,  20 pennies.\n",
            "0 quarters,  4 dimes,  9 nickels,  15 pennies.\n",
            "0 quarters,  4 dimes,  10 nickels,  10 pennies.\n",
            "0 quarters,  4 dimes,  11 nickels,  5 pennies.\n",
            "0 quarters,  4 dimes,  12 nickels,  0 pennies.\n",
            "0 quarters,  5 dimes,  0 nickels,  50 pennies.\n",
            "0 quarters,  5 dimes,  1 nickels,  45 pennies.\n",
            "0 quarters,  5 dimes,  2 nickels,  40 pennies.\n",
            "0 quarters,  5 dimes,  3 nickels,  35 pennies.\n",
            "0 quarters,  5 dimes,  4 nickels,  30 pennies.\n",
            "0 quarters,  5 dimes,  5 nickels,  25 pennies.\n",
            "0 quarters,  5 dimes,  6 nickels,  20 pennies.\n",
            "0 quarters,  5 dimes,  7 nickels,  15 pennies.\n",
            "0 quarters,  5 dimes,  8 nickels,  10 pennies.\n",
            "0 quarters,  5 dimes,  9 nickels,  5 pennies.\n",
            "0 quarters,  5 dimes,  10 nickels,  0 pennies.\n",
            "0 quarters,  6 dimes,  0 nickels,  40 pennies.\n",
            "0 quarters,  6 dimes,  1 nickels,  35 pennies.\n",
            "0 quarters,  6 dimes,  2 nickels,  30 pennies.\n",
            "0 quarters,  6 dimes,  3 nickels,  25 pennies.\n",
            "0 quarters,  6 dimes,  4 nickels,  20 pennies.\n",
            "0 quarters,  6 dimes,  5 nickels,  15 pennies.\n",
            "0 quarters,  6 dimes,  6 nickels,  10 pennies.\n",
            "0 quarters,  6 dimes,  7 nickels,  5 pennies.\n",
            "0 quarters,  6 dimes,  8 nickels,  0 pennies.\n",
            "0 quarters,  7 dimes,  0 nickels,  30 pennies.\n",
            "0 quarters,  7 dimes,  1 nickels,  25 pennies.\n",
            "0 quarters,  7 dimes,  2 nickels,  20 pennies.\n",
            "0 quarters,  7 dimes,  3 nickels,  15 pennies.\n",
            "0 quarters,  7 dimes,  4 nickels,  10 pennies.\n",
            "0 quarters,  7 dimes,  5 nickels,  5 pennies.\n",
            "0 quarters,  7 dimes,  6 nickels,  0 pennies.\n",
            "0 quarters,  8 dimes,  0 nickels,  20 pennies.\n",
            "0 quarters,  8 dimes,  1 nickels,  15 pennies.\n",
            "0 quarters,  8 dimes,  2 nickels,  10 pennies.\n",
            "0 quarters,  8 dimes,  3 nickels,  5 pennies.\n",
            "0 quarters,  8 dimes,  4 nickels,  0 pennies.\n",
            "0 quarters,  9 dimes,  0 nickels,  10 pennies.\n",
            "0 quarters,  9 dimes,  1 nickels,  5 pennies.\n",
            "0 quarters,  9 dimes,  2 nickels,  0 pennies.\n",
            "0 quarters,  10 dimes,  0 nickels,  0 pennies.\n",
            "1 quarters,  0 dimes,  0 nickels,  75 pennies.\n",
            "1 quarters,  0 dimes,  1 nickels,  70 pennies.\n",
            "1 quarters,  0 dimes,  2 nickels,  65 pennies.\n",
            "1 quarters,  0 dimes,  3 nickels,  60 pennies.\n",
            "1 quarters,  0 dimes,  4 nickels,  55 pennies.\n",
            "1 quarters,  0 dimes,  5 nickels,  50 pennies.\n",
            "1 quarters,  0 dimes,  6 nickels,  45 pennies.\n",
            "1 quarters,  0 dimes,  7 nickels,  40 pennies.\n",
            "1 quarters,  0 dimes,  8 nickels,  35 pennies.\n",
            "1 quarters,  0 dimes,  9 nickels,  30 pennies.\n",
            "1 quarters,  0 dimes,  10 nickels,  25 pennies.\n",
            "1 quarters,  0 dimes,  11 nickels,  20 pennies.\n",
            "1 quarters,  0 dimes,  12 nickels,  15 pennies.\n",
            "1 quarters,  0 dimes,  13 nickels,  10 pennies.\n",
            "1 quarters,  0 dimes,  14 nickels,  5 pennies.\n",
            "1 quarters,  0 dimes,  15 nickels,  0 pennies.\n",
            "1 quarters,  1 dimes,  0 nickels,  65 pennies.\n",
            "1 quarters,  1 dimes,  1 nickels,  60 pennies.\n",
            "1 quarters,  1 dimes,  2 nickels,  55 pennies.\n",
            "1 quarters,  1 dimes,  3 nickels,  50 pennies.\n",
            "1 quarters,  1 dimes,  4 nickels,  45 pennies.\n",
            "1 quarters,  1 dimes,  5 nickels,  40 pennies.\n",
            "1 quarters,  1 dimes,  6 nickels,  35 pennies.\n",
            "1 quarters,  1 dimes,  7 nickels,  30 pennies.\n",
            "1 quarters,  1 dimes,  8 nickels,  25 pennies.\n",
            "1 quarters,  1 dimes,  9 nickels,  20 pennies.\n",
            "1 quarters,  1 dimes,  10 nickels,  15 pennies.\n",
            "1 quarters,  1 dimes,  11 nickels,  10 pennies.\n",
            "1 quarters,  1 dimes,  12 nickels,  5 pennies.\n",
            "1 quarters,  1 dimes,  13 nickels,  0 pennies.\n",
            "1 quarters,  2 dimes,  0 nickels,  55 pennies.\n",
            "1 quarters,  2 dimes,  1 nickels,  50 pennies.\n",
            "1 quarters,  2 dimes,  2 nickels,  45 pennies.\n",
            "1 quarters,  2 dimes,  3 nickels,  40 pennies.\n",
            "1 quarters,  2 dimes,  4 nickels,  35 pennies.\n",
            "1 quarters,  2 dimes,  5 nickels,  30 pennies.\n",
            "1 quarters,  2 dimes,  6 nickels,  25 pennies.\n",
            "1 quarters,  2 dimes,  7 nickels,  20 pennies.\n",
            "1 quarters,  2 dimes,  8 nickels,  15 pennies.\n",
            "1 quarters,  2 dimes,  9 nickels,  10 pennies.\n",
            "1 quarters,  2 dimes,  10 nickels,  5 pennies.\n",
            "1 quarters,  2 dimes,  11 nickels,  0 pennies.\n",
            "1 quarters,  3 dimes,  0 nickels,  45 pennies.\n",
            "1 quarters,  3 dimes,  1 nickels,  40 pennies.\n",
            "1 quarters,  3 dimes,  2 nickels,  35 pennies.\n",
            "1 quarters,  3 dimes,  3 nickels,  30 pennies.\n",
            "1 quarters,  3 dimes,  4 nickels,  25 pennies.\n",
            "1 quarters,  3 dimes,  5 nickels,  20 pennies.\n",
            "1 quarters,  3 dimes,  6 nickels,  15 pennies.\n",
            "1 quarters,  3 dimes,  7 nickels,  10 pennies.\n",
            "1 quarters,  3 dimes,  8 nickels,  5 pennies.\n",
            "1 quarters,  3 dimes,  9 nickels,  0 pennies.\n",
            "1 quarters,  4 dimes,  0 nickels,  35 pennies.\n",
            "1 quarters,  4 dimes,  1 nickels,  30 pennies.\n",
            "1 quarters,  4 dimes,  2 nickels,  25 pennies.\n",
            "1 quarters,  4 dimes,  3 nickels,  20 pennies.\n",
            "1 quarters,  4 dimes,  4 nickels,  15 pennies.\n",
            "1 quarters,  4 dimes,  5 nickels,  10 pennies.\n",
            "1 quarters,  4 dimes,  6 nickels,  5 pennies.\n",
            "1 quarters,  4 dimes,  7 nickels,  0 pennies.\n",
            "1 quarters,  5 dimes,  0 nickels,  25 pennies.\n",
            "1 quarters,  5 dimes,  1 nickels,  20 pennies.\n",
            "1 quarters,  5 dimes,  2 nickels,  15 pennies.\n",
            "1 quarters,  5 dimes,  3 nickels,  10 pennies.\n",
            "1 quarters,  5 dimes,  4 nickels,  5 pennies.\n",
            "1 quarters,  5 dimes,  5 nickels,  0 pennies.\n",
            "1 quarters,  6 dimes,  0 nickels,  15 pennies.\n",
            "1 quarters,  6 dimes,  1 nickels,  10 pennies.\n",
            "1 quarters,  6 dimes,  2 nickels,  5 pennies.\n",
            "1 quarters,  6 dimes,  3 nickels,  0 pennies.\n",
            "1 quarters,  7 dimes,  0 nickels,  5 pennies.\n",
            "1 quarters,  7 dimes,  1 nickels,  0 pennies.\n",
            "2 quarters,  0 dimes,  0 nickels,  50 pennies.\n",
            "2 quarters,  0 dimes,  1 nickels,  45 pennies.\n",
            "2 quarters,  0 dimes,  2 nickels,  40 pennies.\n",
            "2 quarters,  0 dimes,  3 nickels,  35 pennies.\n",
            "2 quarters,  0 dimes,  4 nickels,  30 pennies.\n",
            "2 quarters,  0 dimes,  5 nickels,  25 pennies.\n",
            "2 quarters,  0 dimes,  6 nickels,  20 pennies.\n",
            "2 quarters,  0 dimes,  7 nickels,  15 pennies.\n",
            "2 quarters,  0 dimes,  8 nickels,  10 pennies.\n",
            "2 quarters,  0 dimes,  9 nickels,  5 pennies.\n",
            "2 quarters,  0 dimes,  10 nickels,  0 pennies.\n",
            "2 quarters,  1 dimes,  0 nickels,  40 pennies.\n",
            "2 quarters,  1 dimes,  1 nickels,  35 pennies.\n",
            "2 quarters,  1 dimes,  2 nickels,  30 pennies.\n",
            "2 quarters,  1 dimes,  3 nickels,  25 pennies.\n",
            "2 quarters,  1 dimes,  4 nickels,  20 pennies.\n",
            "2 quarters,  1 dimes,  5 nickels,  15 pennies.\n",
            "2 quarters,  1 dimes,  6 nickels,  10 pennies.\n",
            "2 quarters,  1 dimes,  7 nickels,  5 pennies.\n",
            "2 quarters,  1 dimes,  8 nickels,  0 pennies.\n",
            "2 quarters,  2 dimes,  0 nickels,  30 pennies.\n",
            "2 quarters,  2 dimes,  1 nickels,  25 pennies.\n",
            "2 quarters,  2 dimes,  2 nickels,  20 pennies.\n",
            "2 quarters,  2 dimes,  3 nickels,  15 pennies.\n",
            "2 quarters,  2 dimes,  4 nickels,  10 pennies.\n",
            "2 quarters,  2 dimes,  5 nickels,  5 pennies.\n",
            "2 quarters,  2 dimes,  6 nickels,  0 pennies.\n",
            "2 quarters,  3 dimes,  0 nickels,  20 pennies.\n",
            "2 quarters,  3 dimes,  1 nickels,  15 pennies.\n",
            "2 quarters,  3 dimes,  2 nickels,  10 pennies.\n",
            "2 quarters,  3 dimes,  3 nickels,  5 pennies.\n",
            "2 quarters,  3 dimes,  4 nickels,  0 pennies.\n",
            "2 quarters,  4 dimes,  0 nickels,  10 pennies.\n",
            "2 quarters,  4 dimes,  1 nickels,  5 pennies.\n",
            "2 quarters,  4 dimes,  2 nickels,  0 pennies.\n",
            "2 quarters,  5 dimes,  0 nickels,  0 pennies.\n",
            "3 quarters,  0 dimes,  0 nickels,  25 pennies.\n",
            "3 quarters,  0 dimes,  1 nickels,  20 pennies.\n",
            "3 quarters,  0 dimes,  2 nickels,  15 pennies.\n",
            "3 quarters,  0 dimes,  3 nickels,  10 pennies.\n",
            "3 quarters,  0 dimes,  4 nickels,  5 pennies.\n",
            "3 quarters,  0 dimes,  5 nickels,  0 pennies.\n",
            "3 quarters,  1 dimes,  0 nickels,  15 pennies.\n",
            "3 quarters,  1 dimes,  1 nickels,  10 pennies.\n",
            "3 quarters,  1 dimes,  2 nickels,  5 pennies.\n",
            "3 quarters,  1 dimes,  3 nickels,  0 pennies.\n",
            "3 quarters,  2 dimes,  0 nickels,  5 pennies.\n",
            "3 quarters,  2 dimes,  1 nickels,  0 pennies.\n",
            "4 quarters,  0 dimes,  0 nickels,  0 pennies.\n"
          ],
          "name": "stdout"
        }
      ]
    },
    {
      "cell_type": "markdown",
      "metadata": {
        "id": "rUPDjYiIkbgs"
      },
      "source": [
        "##### Q7. Ask the user to enter two positive integers between 1 and 100. Read those integers. Then output a multiplication table of the first number times the second number. \n",
        "\n",
        "Note: You have to ensure the entered numbers are between 1 and 100 only.\n",
        "\n",
        "```\n",
        "Please enter an integer: 5\n",
        "Please enter another integer: 20\n",
        "5 x 1 = 5\n",
        "5 x 2 = 10\n",
        "5 x 3 = 15\n",
        "…\n",
        "5 x 20 = 100\n",
        "```"
      ]
    },
    {
      "cell_type": "code",
      "metadata": {
        "id": "Qg0Orv1klHzA",
        "colab": {
          "base_uri": "https://localhost:8080/"
        },
        "outputId": "69adc672-1d1f-4253-eceb-25368b18ef7a"
      },
      "source": [
        "# Type solution here\r\n",
        "num1 = int(input(\"Please enter an integer: \")) # user input\r\n",
        "num2 = int(input(\"Please enter another integer: \")) # user input\r\n",
        "if num1>100 or num1<0: # error check if statement\r\n",
        "  print(\"Invalid input. Try again with numbers between 1-100.\")\r\n",
        "elif num2>100 or num2<0: # error check inf statement\r\n",
        "  print(\"Invalid input. Try again with numbers between 1-100.\")\r\n",
        "else:\r\n",
        "  for i in range(1,num2+1): # creates range for table\r\n",
        "    print(num1,\"x\",i,\"=\",num1*i) # multiplies value within range"
      ],
      "execution_count": null,
      "outputs": [
        {
          "output_type": "stream",
          "text": [
            "Please enter an integer: 5\n",
            "Please enter another integer: 20\n",
            "5 x 1 = 5\n",
            "5 x 2 = 10\n",
            "5 x 3 = 15\n",
            "5 x 4 = 20\n",
            "5 x 5 = 25\n",
            "5 x 6 = 30\n",
            "5 x 7 = 35\n",
            "5 x 8 = 40\n",
            "5 x 9 = 45\n",
            "5 x 10 = 50\n",
            "5 x 11 = 55\n",
            "5 x 12 = 60\n",
            "5 x 13 = 65\n",
            "5 x 14 = 70\n",
            "5 x 15 = 75\n",
            "5 x 16 = 80\n",
            "5 x 17 = 85\n",
            "5 x 18 = 90\n",
            "5 x 19 = 95\n",
            "5 x 20 = 100\n"
          ],
          "name": "stdout"
        }
      ]
    },
    {
      "cell_type": "markdown",
      "metadata": {
        "id": "SbnbPUPTlLD9"
      },
      "source": [
        "##### Q8. Write a program to ask the user to enter a password. Then check to see if it is a valid password based on these requirements -\n",
        "\n",
        "Must be at least 8 characters long\n",
        "\n",
        "Must contain both uppercase and lowercase letters\n",
        "\n",
        "Must contain at least one number between 0-9\n",
        "\n",
        "Must contain a special character -!,@,#,$\n",
        "\n",
        "If the password is not valid, ask the user to re-enter. This should continue until the user enters a valid password. After a valid password is entered, print Access Granted!\n",
        "\n",
        "```\n",
        "Please enter a password. Follow these requirements - \n",
        "a. Must be at least 8 characters long\n",
        "b. Must contain both uppercase and lowercase letters\n",
        "c. Must contain at least one number between 0-9\n",
        "d. Must contain a special character -!,@,#,$\n",
        "Password: HelloWorld1\n",
        "Invalid password. Try again!\n",
        "Password: Hello@World1\n",
        "Access Granted!\n",
        "```\n"
      ]
    },
    {
      "cell_type": "code",
      "metadata": {
        "id": "OXmZ177Rl-RV",
        "colab": {
          "base_uri": "https://localhost:8080/"
        },
        "outputId": "8b7fc887-a828-43c2-d85d-b70b94942f9f"
      },
      "source": [
        "# Type solution here\r\n",
        "print(\"Please enter a password. Follow these requirements -\")\r\n",
        "print(\"a. Must be at least 8 characters long\")\r\n",
        "print(\"b. Must contain both uppercase and lowercase letters\")\r\n",
        "print(\"c. Must contain at least one number between 0-9\")\r\n",
        "print(\"d. Must contain a special character -!,@,#,$\")\r\n",
        "\r\n",
        "special = [\"!\",\"@\",\"#\",\"$\"] # special char variable\r\n",
        "\r\n",
        "cond = True\r\n",
        "\r\n",
        "while cond:\r\n",
        "  word = input(\"Password: \")\r\n",
        "  if len(word)<8: # checks length is more than 8\r\n",
        "    print(\"Invalid password. Try again!\") \r\n",
        "  elif not any(char.isupper() for char in word): # checks for upper case\r\n",
        "    print(\"Invalid password. Try again!\")\r\n",
        "  elif not any(char.islower() for char in word):# checks for lower case\r\n",
        "    print(\"Invalid password. Try again!\")\r\n",
        "  elif not any(char.isdigit() for char in word): # checks for number\r\n",
        "    print(\"Invalid password. Try again!\")\r\n",
        "  elif not any(char in special for char in word): # checks for special char\r\n",
        "    print(\"Invalid password. Try again!\")\r\n",
        "  else:\r\n",
        "    print(\"Access Granted\")\r\n",
        "    cond = False # ends loop"
      ],
      "execution_count": null,
      "outputs": [
        {
          "output_type": "stream",
          "text": [
            "Please enter a password. Follow these requirements -\n",
            "a. Must be at least 8 characters long\n",
            "b. Must contain both uppercase and lowercase letters\n",
            "c. Must contain at least one number between 0-9\n",
            "d. Must contain a special character -!,@,#,$\n",
            "Password: hello\n",
            "Invalid password. Try again!\n",
            "Password: Hello@World1\n",
            "Access Granted\n"
          ],
          "name": "stdout"
        }
      ]
    },
    {
      "cell_type": "markdown",
      "metadata": {
        "id": "-0sdutTDnTKA"
      },
      "source": [
        "##### Q9. Given the score sheet of participants in a competition, you are required to find the runner-up score. You are given scores in a list. Find the score of the runner-up.\n",
        "\n",
        "```\n",
        "list1 - [2, 3, 6, 6, 5]\n",
        "runner_up - 5\n",
        "\n",
        "list2 - [1, 7, 5, 3, 10, 4, 5, 5, 6, 11]\n",
        "runner_up - 10\n",
        "```"
      ]
    },
    {
      "cell_type": "code",
      "metadata": {
        "id": "12YP9OaqpGRK",
        "colab": {
          "base_uri": "https://localhost:8080/"
        },
        "outputId": "2805255e-a8d8-4bd7-a616-ec384d98f364"
      },
      "source": [
        "# Type solution here\r\n",
        "list1 = [2, 3, 6, 6, 5]\r\n",
        "list2 = [1, 7, 5, 3, 10, 4, 5, 5, 6, 11]\r\n",
        "\r\n",
        "print(\"list1 - \", list1)\r\n",
        "x = [] # empty list\r\n",
        "for i in list1:\r\n",
        "  if i not in x:\r\n",
        "    x.append(i) # clears duplicates\r\n",
        "x.sort() # sorts list\r\n",
        "print(\"runner_up- \", x[-2]) # finds runner up\r\n",
        "\r\n",
        "print(\"list2 - \", list2)\r\n",
        "y = []\r\n",
        "for i in list2:\r\n",
        "  if i not in y:\r\n",
        "    y.append(i)\r\n",
        "y.sort()\r\n",
        "print(\"runner_up- \", y[-2])\r\n",
        "\r\n",
        "\r\n",
        "\r\n"
      ],
      "execution_count": null,
      "outputs": [
        {
          "output_type": "stream",
          "text": [
            "list1 -  [2, 3, 6, 6, 5]\n",
            "runner_up-  5\n",
            "list2 -  [1, 7, 5, 3, 10, 4, 5, 5, 6, 11]\n",
            "runner_up-  10\n"
          ],
          "name": "stdout"
        }
      ]
    }
  ]
}